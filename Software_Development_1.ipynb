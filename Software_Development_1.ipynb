{
 "cells": [
  {
   "cell_type": "code",
   "execution_count": 1,
   "id": "577e3e30",
   "metadata": {},
   "outputs": [],
   "source": [
    "#Mingma\n",
    "#SHE22508936\n",
    "#12 Oct 2022\n"
   ]
  },
  {
   "cell_type": "code",
   "execution_count": null,
   "id": "8fc8296f-a22f-4991-834f-21a8baab8ebe",
   "metadata": {},
   "outputs": [],
   "source": [
    "Speed = int(input(\"Please enter speed value between 0 to 5: \"))\n",
    "while Speed<0 or Speed>5:\n",
    "    Speed = int(input(\"Invalid value! Please enter speed value between 0 to 5: \"))\n",
    "    \n",
    "Shooting = int(input(\"Please enter shooting value between 0 to 5: \"))\n",
    "while Shooting<0 or Shooting>5:\n",
    "    Shooting = int(input(\"Invalid value! Please enter shooting value between 0 to 5: \"))\n",
    "    \n",
    "Passing = int(input(\"Please enter passing value between 0 to 5: \"))\n",
    "while Passing<0 or Passing>5:\n",
    "    Passing = int(input(\"Invalid value! Please enter passing value between 0 to 5: \"))    \n",
    "    \n",
    "Defending = int(input(\"Please enter defending value between 0 to 5: \"))\n",
    "while Defending<0 or Defending>5:\n",
    "    Defending = int(input(\"Invalid value! Please enter defending value between 0 to 5: \"))\n",
    "    \n",
    "Dribbling = int(input(\"Please enter dribbling value between 0 to 5: \"))\n",
    "while Dribbling<0 or Dribbling>5:\n",
    "    Dribbling = int(input(\"Invalid value! Please enter dribbling value between 0 to 5: \"))\n",
    "    \n",
    "Physicality = int(input(\"Please enter physicality value between 0 to 5: \"))\n",
    "while Physicality<0 or Physicality>5:\n",
    "    Physicality = int(input(\"Invalid value! Please enter physicality value between 0 to 5: \"))\n",
    "               "
   ]
  },
  {
   "cell_type": "code",
   "execution_count": null,
   "id": "6c9e5aa1-35a7-49b4-b37b-b0b3f84dddb2",
   "metadata": {},
   "outputs": [],
   "source": [
    "#Using input to calculate the formula for Overall rate of the player\n",
    "Summation=int(Speed+Shooting+Passing+Defending+Dribbling+Physicality)\n",
    "\n",
    "OverallRate=int(Summation*100/30)\n",
    "OvR=OverallRate\n",
    "\n",
    "print (\"Overall rate of the player = \", str(OvR))\n",
    "\n"
   ]
  },
  {
   "cell_type": "code",
   "execution_count": null,
   "id": "69af883d-b3dc-4f9a-b421-e40072ac75c8",
   "metadata": {},
   "outputs": [],
   "source": [
    "#Estimate salary for the player according to their Overall Rate\n",
    "\n",
    "if OvR >80 : \n",
    "    print(\"Salary of the player is \", 1000)\n",
    "elif 60<= OvR <=80 :\n",
    "    print(\"Salary of the player is \", 1000,\" \",700)\n",
    "elif 45<= OvR <=60 :\n",
    "    print(\"Salary of the player is \", 700,\" \",500)\n",
    "elif 30<= OvR <=45 :\n",
    "    print(\"Salary of the player is \", 500,\" \",400)\n",
    "else:\n",
    "    print(\"Salary of the player is \", 300)\n",
    "    \n",
    "            "
   ]
  },
  {
   "cell_type": "code",
   "execution_count": null,
   "id": "2e2553e7-0e81-4f4e-bb48-4a9d26b93729",
   "metadata": {},
   "outputs": [],
   "source": [
    "#Estimate salary for the player according to their Overall Rate\n",
    "if OvR >80 : \n",
    "    print(\"Salary of the player is \", 1000)\n",
    "elif 60<= OvR <=80 :\n",
    "    print(\"Salary of the player is \", 1000,\" \",700)\n",
    "elif 45<= OvR <=60 :\n",
    "    print(\"Salary of the player is \", 700,\" \",500)\n",
    "elif 30<= OvR <=45 :\n",
    "    print(\"Salary of the player is \", 500,\" \",400)\n",
    "else:\n",
    "    print(\"Salary of the player is \", 300)\n",
    "    "
   ]
  },
  {
   "cell_type": "code",
   "execution_count": null,
   "id": "3c3ef5c8-5eba-4bbb-b3e0-3f6957d09e37",
   "metadata": {},
   "outputs": [],
   "source": []
  },
  {
   "cell_type": "code",
   "execution_count": null,
   "id": "891594f2-ea7d-42f5-a481-42bceb5ca643",
   "metadata": {},
   "outputs": [],
   "source": []
  }
 ],
 "metadata": {
  "kernelspec": {
   "display_name": "Python 3 (ipykernel)",
   "language": "python",
   "name": "python3"
  },
  "language_info": {
   "codemirror_mode": {
    "name": "ipython",
    "version": 3
   },
   "file_extension": ".py",
   "mimetype": "text/x-python",
   "name": "python",
   "nbconvert_exporter": "python",
   "pygments_lexer": "ipython3",
   "version": "3.9.12"
  },
  "toc-showcode": false
 },
 "nbformat": 4,
 "nbformat_minor": 5
}
